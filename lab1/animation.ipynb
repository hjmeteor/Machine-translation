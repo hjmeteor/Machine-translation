{
 "cells": [
  {
   "cell_type": "markdown",
   "metadata": {},
   "source": [
    "Code used to generate the animation of alignment probabilities:"
   ]
  },
  {
   "cell_type": "code",
   "execution_count": null,
   "metadata": {
    "collapsed": true
   },
   "outputs": [],
   "source": [
    "%%capture\n",
    "line_weights = [[w*10 for w in sublist] for sublist in get_line_weights(bitext, thetas20, num_iter)]\n",
    "coordinates = get_coordinates(bitext)\n",
    "fig = plt.figure(figsize=(8, 12))\n",
    "ax = plt.axes()\n",
    "plt.axis('off')\n",
    "lines = [ax.plot(xy[0], xy[1],alpha=0.9,linestyle='-',color='#1a75ff')[0] for xy in coordinates['edges']]\n",
    "\n",
    "def init_alignments():\n",
    "    ax.scatter(coordinates['x_f']+coordinates['x_e'], coordinates['y_f']+coordinates['y_e'],\n",
    "           s=30, c='white', marker='o', lw=0,alpha=1)\n",
    "    plot_words(ax, coordinates['x_f'], coordinates['y_f'], coordinates['w_f'], 'top')\n",
    "    plot_words(ax, coordinates['x_e'], coordinates['y_e'], coordinates['w_e'], 'bottom')\n",
    "    for (n, line) in enumerate(lines):\n",
    "        line.set_linewidth(line_weights[0][n])\n",
    "    return lines\n",
    "\n",
    "def animate_alignments(i):\n",
    "    for (n, line) in enumerate(lines):\n",
    "        line.set_linewidth(line_weights[i][n])\n",
    "    return lines"
   ]
  },
  {
   "cell_type": "code",
   "execution_count": null,
   "metadata": {
    "collapsed": true
   },
   "outputs": [],
   "source": [
    "anim = FuncAnimation(fig, animate_alignments, init_func=init_alignments, frames=num_iter, interval=1000,\n",
    "                     blit=True, repeat=False)\n",
    "# HTML(anim.to_html5_video())\n",
    "\n",
    "anim.save('alignment.gif', writer='imagemagick', fps=2)"
   ]
  },
  {
   "cell_type": "markdown",
   "metadata": {},
   "source": [
    "Code used to generate the animation of translation probabilities:"
   ]
  },
  {
   "cell_type": "code",
   "execution_count": null,
   "metadata": {
    "collapsed": true
   },
   "outputs": [],
   "source": [
    "%%capture\n",
    "fig = plt.figure(figsize=(7, 5))\n",
    "sns.set(font_scale=1.2)\n",
    "sns.set_style({\"savefig.dpi\": 100})\n",
    "theta2frame = pd.DataFrame.from_dict(thetas20[0], orient=\"index\")\n",
    "data = theta2frame.round(2)\n",
    "sns.heatmap(data, cmap=plt.cm.Blues, linewidths=.1, vmin=0, vmax=1)\n",
    "ax.xaxis.tick_top()\n",
    "plt.yticks(rotation=0)\n",
    "\n",
    "def animate_translation(i):\n",
    "    plt.clf()\n",
    "    theta2frame = pd.DataFrame.from_dict(thetas20[i], orient=\"index\")\n",
    "    data = theta2frame.round(2)\n",
    "    ax = sns.heatmap(data, cmap=plt.cm.Blues, linewidths=.1, vmin=0, vmax=1)\n",
    "    ax.xaxis.tick_top()\n",
    "\n",
    "anim = FuncAnimation(fig, animate_translation, frames=20, interval=1000, repeat = False)\n",
    "# HTML(anim.to_html5_video())\n",
    "\n",
    "anim.save('translation.gif', writer='imagemagick', fps=2)"
   ]
  }
 ],
 "metadata": {
  "kernelspec": {
   "display_name": "Python 3",
   "language": "python",
   "name": "python3"
  },
  "language_info": {
   "codemirror_mode": {
    "name": "ipython",
    "version": 3
   },
   "file_extension": ".py",
   "mimetype": "text/x-python",
   "name": "python",
   "nbconvert_exporter": "python",
   "pygments_lexer": "ipython3",
   "version": "3.6.0"
  }
 },
 "nbformat": 4,
 "nbformat_minor": 2
}
